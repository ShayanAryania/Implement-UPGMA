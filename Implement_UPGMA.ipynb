{
 "cells": [
  {
   "cell_type": "code",
   "execution_count": 7,
   "metadata": {},
   "outputs": [],
   "source": [
    "    from collections import defaultdict"
   ]
  },
  {
   "cell_type": "code",
   "execution_count": 8,
   "metadata": {},
   "outputs": [],
   "source": [
    "class Cluster(object):\n",
    "    def __init__(self, id, age, nodes):\n",
    "        self.id = id\n",
    "        self.age = age\n",
    "        self.nodes = nodes\n",
    "    \n",
    "    def compute_distance_with_cluster(self, cluster, distanceMatrix):\n",
    "        distanceSum = sum(distanceMatrix[i][j] for i in self.nodes for j in cluster.nodes)\n",
    "        return distanceSum / float(len(self.nodes) * len(cluster.nodes))\n",
    "\n",
    "def merge_clusters(c1, c2, id, age):\n",
    "    return Cluster(id, age, c1.nodes + c2.nodes)\n",
    "\n",
    "def find_closest_clusters(clusterList, clusters, distanceMatrix):\n",
    "    c1, c2 = min([(c1, c2) for c1 in clusters for c2 in clusters if c1 != c2], key=lambda tup: clusterList[tup[0]].compute_distance_with_cluster(clusterList[tup[1]], distanceMatrix))\n",
    "    return clusterList[c1], clusterList[c2]\n",
    "\n",
    "def connect_nodes(graph, parent, child):\n",
    "    distance = parent.age - child.age\n",
    "    graph[parent.id].append((child.id, distance)) \n",
    "    graph[child.id].append((parent.id, distance))\n",
    "\n",
    "def update_distance_matrix(newCluster, clusterList, distanceMatrix):\n",
    "    distances = [newCluster.compute_distance_with_cluster(cluster, distanceMatrix) for cluster in clusterList]\n",
    "    for i in range(len(distanceMatrix)):\n",
    "        distanceMatrix[i].append(distances[i])\n",
    "    distanceMatrix.append(distances + [0])\n",
    "\n",
    "def upgma(distanceMatrix, n):\n",
    "\n",
    "    clusterList = [Cluster(id, age=0, nodes=[id]) for id in range(n)]\n",
    "    clusters = set([id for id in range(n)])\n",
    "    graph = defaultdict(list)\n",
    "    currentId = n\n",
    "\n",
    "    while len(clusters) > 1:\n",
    "        c1, c2 = find_closest_clusters(clusterList, clusters, distanceMatrix)\n",
    "        age = c1.compute_distance_with_cluster(c2, distanceMatrix) / 2\n",
    "        newCluster = merge_clusters(c1, c2, currentId, age=age)\n",
    "        currentId += 1\n",
    "        connect_nodes(graph, newCluster, c1)\n",
    "        connect_nodes(graph, newCluster, c2)\n",
    "        clusters.remove(c1.id)\n",
    "        clusters.remove(c2.id)\n",
    "        clusters.add(newCluster.id)\n",
    "        clusterList.append(newCluster)\n",
    "\n",
    "        update_distance_matrix(newCluster, clusterList, distanceMatrix)\n",
    "\n",
    "\n",
    "    return graph"
   ]
  },
  {
   "cell_type": "code",
   "execution_count": 9,
   "metadata": {},
   "outputs": [],
   "source": [
    "with open('/Users/shayanaryania/Desktop/University/Rosalind/Implement_UPGMA/rosalind_ba7d.txt') as inFile:\n",
    "    n = int(inFile.readline())\n",
    "    distanceMatrix = [list(map(int, inFile.readline().split())) for _ in range(n)]\n",
    "    T = upgma(distanceMatrix, n)"
   ]
  },
  {
   "cell_type": "code",
   "execution_count": 10,
   "metadata": {},
   "outputs": [],
   "source": [
    "with open('/Users/shayanaryania/Desktop/University/Rosalind/Implement_UPGMA/rosalind_ba7d_out.txt', 'w') as outFile:\n",
    "    nodeCount = len(T)\n",
    "    for u in range(nodeCount):\n",
    "        for v, w in T[u]:\n",
    "            print('%d->%d:%.3f' % (u, v, w), file=outFile)"
   ]
  },
  {
   "cell_type": "code",
   "execution_count": null,
   "metadata": {},
   "outputs": [],
   "source": []
  }
 ],
 "metadata": {
  "kernelspec": {
   "display_name": "Python 3",
   "language": "python",
   "name": "python3"
  },
  "language_info": {
   "codemirror_mode": {
    "name": "ipython",
    "version": 3
   },
   "file_extension": ".py",
   "mimetype": "text/x-python",
   "name": "python",
   "nbconvert_exporter": "python",
   "pygments_lexer": "ipython3",
   "version": "3.11.4"
  }
 },
 "nbformat": 4,
 "nbformat_minor": 2
}
